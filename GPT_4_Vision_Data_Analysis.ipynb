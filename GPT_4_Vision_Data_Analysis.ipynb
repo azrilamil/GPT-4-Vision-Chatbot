{
  "cells": [
    {
      "cell_type": "markdown",
      "metadata": {
        "colab_type": "text",
        "id": "view-in-github"
      },
      "source": [
        "<a href=\"https://colab.research.google.com/github/Anil-matcha/GPT-4-Vision-Chatbot/blob/main/GPT_4_Vision_Data_Analysis.ipynb\" target=\"_parent\"><img src=\"https://colab.research.google.com/assets/colab-badge.svg\" alt=\"Open In Colab\"/></a>"
      ]
    },
    {
      "cell_type": "code",
      "execution_count": null,
      "metadata": {
        "colab": {
          "base_uri": "https://localhost:8080/"
        },
        "id": "SDDI0ixGHbVL",
        "outputId": "c99d2931-5b45-4c37-c029-97107f24ab0b"
      },
      "outputs": [],
      "source": [
        "!pip install \"openai>=1\""
      ]
    },
    {
      "cell_type": "code",
      "execution_count": null,
      "metadata": {
        "colab": {
          "base_uri": "https://localhost:8080/",
          "height": 961
        },
        "id": "xEWh5j8-HjA7",
        "outputId": "09cb8d14-fe3d-481e-a889-54efdaaed158"
      },
      "outputs": [],
      "source": [
        "import cv2\n",
        "from google.colab.patches import cv2_imshow\n",
        "!wget https://media.thoughtspot.com/35707/1679924349-exam-results-gpt-3-5-vs-gpt-4-1.png\n",
        "img = cv2.imread(\"1679924349-exam-results-gpt-3-5-vs-gpt-4-1.png\")\n",
        "cv2_imshow(img)"
      ]
    },
    {
      "cell_type": "code",
      "execution_count": null,
      "metadata": {
        "id": "H5ryUqLKHlKB"
      },
      "outputs": [],
      "source": [
        "import os\n",
        "from dotenv import load_dotenv\n",
        "from openai import OpenAI\n",
        "\n",
        "# Load environment variables from .env file\n",
        "load_dotenv()\n",
        "\n",
        "# Set the OpenAI API key from the environment variable\n",
        "openai.api_key = os.getenv('OPENAI_API_KEY')\n",
        "\n",
        "client = OpenAI()\n",
        "\n",
        "response = client.chat.completions.create(\n",
        "    model=\"gpt-4-vision-preview\",\n",
        "    messages=[\n",
        "        {\n",
        "            \"role\": \"user\",\n",
        "            \"content\": [\n",
        "                {\"type\": \"text\", \"text\": \"Explain the graph\"},\n",
        "                {\n",
        "                    \"type\": \"image_url\",\n",
        "                    \"image_url\": \"https://media.thoughtspot.com/35707/1679924349-exam-results-gpt-3-5-vs-gpt-4-1.png\",\n",
        "                },\n",
        "            ],\n",
        "        },\n",
        "    ],\n",
        "    max_tokens=1000,\n",
        ")"
      ]
    },
    {
      "cell_type": "code",
      "execution_count": null,
      "metadata": {
        "colab": {
          "base_uri": "https://localhost:8080/"
        },
        "id": "dsG0ghZRH9GV",
        "outputId": "b0871be4-403c-4d70-e979-3dde3f56aa40"
      },
      "outputs": [],
      "source": [
        "out = response.choices[0].message.content\n",
        "print(out)"
      ]
    }
  ],
  "metadata": {
    "colab": {
      "authorship_tag": "ABX9TyNhaeZL9ShO/rlqgC+vQDtK",
      "include_colab_link": true,
      "provenance": []
    },
    "kernelspec": {
      "display_name": "Python 3",
      "name": "python3"
    },
    "language_info": {
      "name": "python"
    }
  },
  "nbformat": 4,
  "nbformat_minor": 0
}
