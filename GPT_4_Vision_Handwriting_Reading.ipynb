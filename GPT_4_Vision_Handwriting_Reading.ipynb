{
  "cells": [
    {
      "cell_type": "markdown",
      "metadata": {
        "colab_type": "text",
        "id": "view-in-github"
      },
      "source": [
        "<a href=\"https://colab.research.google.com/github/Anil-matcha/GPT-4-Vision-Chatbot/blob/main/GPT_4_Vision_Handwriting_Reading.ipynb\" target=\"_parent\"><img src=\"https://colab.research.google.com/assets/colab-badge.svg\" alt=\"Open In Colab\"/></a>"
      ]
    },
    {
      "cell_type": "code",
      "execution_count": null,
      "metadata": {
        "colab": {
          "base_uri": "https://localhost:8080/"
        },
        "id": "SDDI0ixGHbVL",
        "outputId": "4d185f2c-60ab-4d55-9d18-4d0114d95539"
      },
      "outputs": [],
      "source": [
        "!pip install \"openai>=1\""
      ]
    },
    {
      "cell_type": "code",
      "execution_count": null,
      "metadata": {
        "colab": {
          "base_uri": "https://localhost:8080/",
          "height": 727
        },
        "id": "xEWh5j8-HjA7",
        "outputId": "fe7943f5-fa11-4146-ea1d-1294c32580e8"
      },
      "outputs": [],
      "source": [
        "import cv2\n",
        "from google.colab.patches import cv2_imshow\n",
        "!wget https://assets-global.website-files.com/624ac40503a527cf47af4192/646dc5b7fb9da46acab64901_handwrited.jpeg\n",
        "img = cv2.imread(\"646dc5b7fb9da46acab64901_handwrited.jpeg\")\n",
        "cv2_imshow(img)"
      ]
    },
    {
      "cell_type": "code",
      "execution_count": null,
      "metadata": {
        "id": "H5ryUqLKHlKB"
      },
      "outputs": [],
      "source": [
        "import os\n",
        "os.environ[\"OPENAI_API_KEY\"] = \"openai-key\"\n",
        "from openai import OpenAI\n",
        "\n",
        "client = OpenAI()\n",
        "\n",
        "response = client.chat.completions.create(\n",
        "    model=\"gpt-4-vision-preview\",\n",
        "    messages=[\n",
        "        {\n",
        "            \"role\": \"user\",\n",
        "            \"content\": [\n",
        "                {\"type\": \"text\", \"text\": \"Can you read this ?\"},\n",
        "                {\n",
        "                    \"type\": \"image_url\",\n",
        "                    \"image_url\": \"https://assets-global.website-files.com/624ac40503a527cf47af4192/646dc5b7fb9da46acab64901_handwrited.jpeg\",\n",
        "                },\n",
        "            ],\n",
        "        },\n",
        "    ],\n",
        "    max_tokens=1000,\n",
        ")"
      ]
    },
    {
      "cell_type": "code",
      "execution_count": null,
      "metadata": {
        "colab": {
          "base_uri": "https://localhost:8080/"
        },
        "id": "dsG0ghZRH9GV",
        "outputId": "791692f2-9224-482d-ebbb-c462db8229f6"
      },
      "outputs": [],
      "source": [
        "out = response.choices[0].message.content\n",
        "print(out)"
      ]
    }
  ],
  "metadata": {
    "colab": {
      "authorship_tag": "ABX9TyMpOMzxdCCHreYfdc/qjU6z",
      "include_colab_link": true,
      "provenance": []
    },
    "kernelspec": {
      "display_name": "Python 3",
      "name": "python3"
    },
    "language_info": {
      "name": "python"
    }
  },
  "nbformat": 4,
  "nbformat_minor": 0
}
